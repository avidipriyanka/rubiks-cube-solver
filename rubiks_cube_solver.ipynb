{
  "nbformat": 4,
  "nbformat_minor": 0,
  "metadata": {
    "colab": {
      "provenance": [],
      "authorship_tag": "ABX9TyOt9c7vAo+uR3FgWTCUZYfc",
      "include_colab_link": true
    },
    "kernelspec": {
      "name": "python3",
      "display_name": "Python 3"
    },
    "language_info": {
      "name": "python"
    }
  },
  "cells": [
    {
      "cell_type": "markdown",
      "metadata": {
        "id": "view-in-github",
        "colab_type": "text"
      },
      "source": [
        "<a href=\"https://colab.research.google.com/github/avidipriyanka/rubiks-cube-solver/blob/main/rubiks_cube_solver.ipynb\" target=\"_parent\"><img src=\"https://colab.research.google.com/assets/colab-badge.svg\" alt=\"Open In Colab\"/></a>"
      ]
    },
    {
      "cell_type": "code",
      "source": [
        "pip install kociemba\n"
      ],
      "metadata": {
        "colab": {
          "base_uri": "https://localhost:8080/"
        },
        "id": "kFESQ2Co2QQ3",
        "outputId": "3d9fc7bb-79f6-48ee-95ef-07d8edf6a3a2"
      },
      "execution_count": 2,
      "outputs": [
        {
          "output_type": "stream",
          "name": "stdout",
          "text": [
            "Collecting kociemba\n",
            "  Downloading kociemba-1.2.1.tar.gz (6.6 MB)\n",
            "\u001b[2K     \u001b[90m━━━━━━━━━━━━━━━━━━━━━━━━━━━━━━━━━━━━━━━━\u001b[0m \u001b[32m6.6/6.6 MB\u001b[0m \u001b[31m13.4 MB/s\u001b[0m eta \u001b[36m0:00:00\u001b[0m\n",
            "\u001b[?25h  Preparing metadata (setup.py) ... \u001b[?25l\u001b[?25hdone\n",
            "Requirement already satisfied: cffi>=1.0.0 in /usr/local/lib/python3.11/dist-packages (from kociemba) (1.17.1)\n",
            "Requirement already satisfied: future in /usr/local/lib/python3.11/dist-packages (from kociemba) (1.0.0)\n",
            "Requirement already satisfied: pycparser in /usr/local/lib/python3.11/dist-packages (from cffi>=1.0.0->kociemba) (2.22)\n",
            "Building wheels for collected packages: kociemba\n",
            "  Building wheel for kociemba (setup.py) ... \u001b[?25l\u001b[?25hdone\n",
            "  Created wheel for kociemba: filename=kociemba-1.2.1-cp311-cp311-linux_x86_64.whl size=6800269 sha256=98e2ad7e40c95f5dfa68fe492c30cc0a92fe2b883c3f3a81fc9d71a534460b71\n",
            "  Stored in directory: /root/.cache/pip/wheels/6c/51/2f/f3b8548d55efe500bd3b8880b0c59e7c59d0bf765c5676c036\n",
            "Successfully built kociemba\n",
            "Installing collected packages: kociemba\n",
            "Successfully installed kociemba-1.2.1\n"
          ]
        }
      ]
    },
    {
      "cell_type": "code",
      "source": [
        "import kociemba\n",
        "\n",
        "class RubiksCube:\n",
        "\n",
        "\n",
        "    def __init__(self):\n",
        "        self.faces = {\n",
        "            'U': ['U'] * 9, 'D': ['D'] * 9,\n",
        "            'F': ['F'] * 9, 'B': ['B'] * 9,\n",
        "            'L': ['L'] * 9, 'R': ['R'] * 9\n",
        "        }\n",
        "\n",
        "    def rotate_face_clockwise(self, face):\n",
        "        f = self.faces[face]\n",
        "        self.faces[face] = [\n",
        "            f[6], f[3], f[0],\n",
        "            f[7], f[4], f[1],\n",
        "            f[8], f[5], f[2]\n",
        "        ]\n",
        "\n",
        "    def rotate_face_counterclockwise(self, face):\n",
        "        f = self.faces[face]\n",
        "        self.faces[face] = [\n",
        "            f[2], f[5], f[8],\n",
        "            f[1], f[4], f[7],\n",
        "            f[0], f[3], f[6]\n",
        "        ]\n",
        "\n",
        "    def apply_move(self, move):\n",
        "        face = move[0]\n",
        "        clockwise = True\n",
        "        if len(move) > 1 and move[1] == \"'\":\n",
        "            clockwise = False\n",
        "\n",
        "        if clockwise:\n",
        "            self.rotate_face_clockwise(face)\n",
        "        else:\n",
        "            self.rotate_face_counterclockwise(face)\n",
        "        # Note: adjacent edge movement not included in this demo.\n",
        "\n",
        "    def scramble(self, moves_str):\n",
        "        for move in moves_str.split():\n",
        "            self.apply_move(move)\n",
        "\n",
        "    def is_solved(self):\n",
        "        return all(face.count(face[0]) == 9 for face in self.faces.values())\n",
        "\n",
        "def solve_kociemba(cube_string):\n",
        "    return kociemba.solve(cube_string)\n",
        "\n",
        "if __name__ == \"__main__\":\n",
        "    scramble = \"R U R' U R U2 R'\"\n",
        "    cube_string = \"UUUUUUUUURRRRRRRRRFFFFFFFFFDDDDDDDDDLLLLLLLLLBBBBBBBBB\"\n",
        "    solution = solve_kociemba(cube_string)\n",
        "    print(\"Scramble:\", scramble)\n",
        "    print(\"Cube String:\", cube_string)\n",
        "    print(\"Solution:\", solution)\n"
      ],
      "metadata": {
        "colab": {
          "base_uri": "https://localhost:8080/"
        },
        "id": "MwBsFrZy2hwh",
        "outputId": "dabe3fe0-0400-4b51-c32c-bd0a748b67a7"
      },
      "execution_count": 5,
      "outputs": [
        {
          "output_type": "stream",
          "name": "stdout",
          "text": [
            "Scramble: R U R' U R U2 R'\n",
            "Cube String: UUUUUUUUURRRRRRRRRFFFFFFFFFDDDDDDDDDLLLLLLLLLBBBBBBBBB\n",
            "Solution: R L U2 R L' B2 U2 R2 F2 L2 D2 L2 F2\n"
          ]
        }
      ]
    }
  ]
}